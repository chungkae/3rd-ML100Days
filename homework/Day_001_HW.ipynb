{
 "cells": [
  {
   "cell_type": "markdown",
   "metadata": {},
   "source": [
    "## 練習時間\n",
    "#### 請寫一個函式用來計算 Mean Square Error\n",
    "$ MSE = \\frac{1}{n}\\sum_{i=1}^{n}{(Y_i - \\hat{Y}_i)^2} $\n",
    "\n",
    "### Hint: [如何取平方](https://googoodesign.gitbooks.io/-ezpython/unit-1.html)"
   ]
  },
  {
   "cell_type": "markdown",
   "metadata": {},
   "source": [
    "# [作業目標]\n",
    "- 仿造範例的MAE函數, 自己寫一個MSE函數(參考上面公式)"
   ]
  },
  {
   "cell_type": "markdown",
   "metadata": {},
   "source": [
    "# [作業重點]\n",
    "- 注意程式的縮排\n",
    "- 是否能將數學公式, 轉換為 Python 的函式組合? (In[2], Out[2])"
   ]
  },
  {
   "cell_type": "code",
   "execution_count": 1,
   "metadata": {},
   "outputs": [],
   "source": [
    "# 載入基礎套件與代稱\n",
    "import numpy as np\n",
    "import matplotlib.pyplot as plt"
   ]
  },
  {
   "cell_type": "code",
   "execution_count": 2,
   "metadata": {},
   "outputs": [],
   "source": [
    "def mean_absolute_error(y, yp):\n",
    "    \"\"\"\n",
    "    計算 MAE\n",
    "    Args:\n",
    "        - y: 實際值\n",
    "        - yp: 預測值\n",
    "    Return:\n",
    "        - mae: MAE\n",
    "    \"\"\"\n",
    "    mae = MAE = sum(abs(y - yp)) / len(y)\n",
    "    return mae\n",
    "\n",
    "# 定義 mean_squared_error 這個函數, 計算並傳回 MSE\n",
    "def mean_squared_error(y,yp):\n",
    "    \"\"\"\n",
    "    計算 MSE\n",
    "    Args:\n",
    "        - y: 實際值\n",
    "        - yp: 預測值\n",
    "    Return:\n",
    "        - mse: MSE\n",
    "    \"\"\"  \n",
    "    mse = MSE = sum((y-yp)**(2))/len(y)\n",
    "    return mse"
   ]
  },
  {
   "cell_type": "code",
   "execution_count": 3,
   "metadata": {},
   "outputs": [
    {
     "data": {
      "image/png": "[encoded data removed]",
      "text/plain": [
       "<Figure size 432x288 with 1 Axes>"
      ]
     },
     "metadata": {
      "needs_background": "light"
     },
     "output_type": "display_data"
    }
   ],
   "source": [
    "# 與範例相同, 不另外解說\n",
    "w = 3\n",
    "b = 0.5\n",
    "x_lin = np.linspace(0, 100, 101)\n",
    "y = (x_lin + np.random.randn(101) * 5) * w + b\n",
    "\n",
    "plt.plot(x_lin, y, 'b.', label = 'data points')\n",
    "plt.title(\"Assume we have data points\")\n",
    "plt.legend(loc = 2)\n",
    "plt.show()"
   ]
  },
  {
   "cell_type": "code",
   "execution_count": 4,
   "metadata": {},
   "outputs": [
    {
     "data": {
      "image/png": "[encoded data removed]",
      "text/plain": [
       "<Figure size 432x288 with 1 Axes>"
      ]
     },
     "metadata": {
      "needs_background": "light"
     },
     "output_type": "display_data"
    }
   ],
   "source": [
    "# 與範例相同, 不另外解說\n",
    "y_hat = x_lin * w + b\n",
    "plt.plot(x_lin, y, 'b.', label = 'data')\n",
    "plt.plot(x_lin, y_hat, 'r-', label = 'prediction')\n",
    "plt.title(\"Assume we have data points (And the prediction)\")\n",
    "plt.legend(loc = 2)\n",
    "plt.show()"
   ]
  },
  {
   "cell_type": "code",
   "execution_count": 5,
   "metadata": {},
   "outputs": [
    {
     "name": "stdout",
     "output_type": "stream",
     "text": [
      "The Mean squared error is 193.880\n",
      "The Mean absolute error is 11.283\n"
     ]
    }
   ],
   "source": [
    "# 執行 Function, 確認有沒有正常執行\n",
    "MSE = mean_squared_error(y, y_hat)\n",
    "MAE = mean_absolute_error(y, y_hat)\n",
    "print(\"The Mean squared error is %.3f\" % (MSE))\n",
    "print(\"The Mean absolute error is %.3f\" % (MAE))"
   ]
  },
  {
   "cell_type": "markdown",
   "metadata": {},
   "source": [
    "# [作業2]\n",
    "\n",
    "請上 Kaggle, 在 Competitions 或 Dataset 中找一組競賽或資料並寫下：\n",
    "\n",
    "1. 你選的這組資料為何重要\n",
    "這組資料為NBA2014-2015賽季投射資料，對於一位球隊GM而言，\n",
    "除了觀察帳目上淺顯的累積數據或利用直覺判斷潛在球員對球隊化學作用如何，\n",
    "也可以似棒球電影魔球一般，利用數據分析獲取更多沒辦法直接觀察到的資訊，\n",
    "簽下真正適合球隊的球員或以數據來協助球員改善場上選擇(如投籃或傳球)。 https://www.kaggle.com/dansbecker/nba-shot-logs\n",
    "\n",
    "2. 資料從何而來 (tips: 譬如提供者是誰、以什麼方式蒐集)\n",
    "此資料原始提供者為NBA官方之數據，\n",
    "搜集者透過連結NBA官方API所得之數據。\n",
    "\n",
    "3. 蒐集而來的資料型態為何\n",
    "這個dataset屬於結構化資料，包含賽季中每位球員每次投射時，\n",
    "是否命中、投射距離、最近防守者距離、投射者、最近防守者及離24秒進攻到點時間等等\n",
    "\n",
    "4. 這組資料想解決的問題如何評估\n",
    "假設單純的想解決球員選擇投籃的問題，\n",
    "利用模型預測在各種防守者距離、投籃距離或防守者、防守者身高、秒數等因素下，投籃命中之機會。\n",
    "若以六成以上為基準，利用模型之AUC等指標來評估模型。\n",
    "以球隊中球員為目標，找出可能連球員本身或教練都未必知道的投籃熱區。\n",
    "\n",
    "# [作業3]\n",
    "\n",
    "想像你經營一個自由載客車隊，你希望能透過數據分析以提升業績，請你思考並描述你如何規劃整體的分析/解決方案：\n",
    "\n",
    "1. 核心問題為何 (tips：如何定義 「提升業績 & 你的假設」)\n",
    "a. 作為營利組織最重要的還是賺錢，因此提升業績當下也要考慮維持成本，故目標還是在極大化利潤＝ MAX(收入) - Min(成本)\n",
    "b. 思考永續經營及社會責任，維持企業聲譽正向。(可視為提升業績下的限制條件)\n",
    "\n",
    "2. 資料從何而來 (tips：哪些資料可能會對你想問的問題產生影響 & 資料如何蒐集)\n",
    "a. 道路資訊及交通堵塞即時資訊。(可能可串接google及高公局高速公路車況)\n",
    "b. 顧客客訴蒐集。(語音客訴留存或文字客訴紀錄)\n",
    "c. 歷史載客紀錄 (GPS留下每位司機開車歷程、上車點、下車點、空車路段等等)\n",
    "d. 汽車耗油紀錄及維修紀錄 (留存歷史資訊)\n",
    "e. 大型活動、會議、研討會資料 (可透過網路爬蟲)\n",
    "\n",
    "3. 蒐集而來的資料型態為何\n",
    "包括結構化及非結構化資料。\n",
    "如語音或文字則需要思考如何標準化，如斷詞等等。\n",
    "\n",
    "4. 你要回答的問題，其如何評估 (tips：你的假設如何驗證)\n",
    "a. 預測每個時間劃分的不同區域各自不同的最適派車數，配合司機回報實際情況及道路即時資訊。\n",
    "b. 追求高利潤下，客訴率的臨界值，隨著客訴率調整策略。\n",
    "c. 派遣司機前往預期顧客乘車率高之區域(配合網路爬蟲資訊)\n",
    "d. 比較依照策略及未依策略執行的利潤及客訴率。"
   ]
  }
 ],
 "metadata": {
  "anaconda-cloud": {},
  "kernelspec": {
   "display_name": "Python 3",
   "language": "python",
   "name": "python3"
  },
  "language_info": {
   "codemirror_mode": {
    "name": "ipython",
    "version": 3
   },
   "file_extension": ".py",
   "mimetype": "text/x-python",
   "name": "python",
   "nbconvert_exporter": "python",
   "pygments_lexer": "ipython3",
   "version": "3.7.1"
  }
 },
 "nbformat": 4,
 "nbformat_minor": 1
}
