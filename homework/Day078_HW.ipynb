{
 "cells": [
  {
   "cell_type": "markdown",
   "metadata": {},
   "source": [
    "## Work\n",
    "1. 請嘗試將 preproc_x 替換成以每筆資料的 min/max 進行標準化至 -1 ~ 1 間，再進行訓練\n",
    "2. 請嘗試將 mlp 疊更深 (e.g 5~10 層)，進行訓練後觀察 learning curve 的走勢\n",
    "3. (optional) 請改用 GPU 進行訓練 (如果你有 GPU 的話)，比較使用 CPU 與 GPU 的訓練速度"
   ]
  },
  {
   "cell_type": "code",
   "execution_count": 1,
   "metadata": {},
   "outputs": [
    {
     "name": "stdout",
     "output_type": "stream",
     "text": [
      "/bin/sh: nvidia-smi: command not found\r\n"
     ]
    }
   ],
   "source": [
    "## \n",
    "\"\"\"\n",
    "Your code here (optional)\n",
    "確認硬體資源\n",
    "Adam : mac2018pro 並無外接nvidia \n",
    "\"\"\"\n",
    "\n",
    "!nvidia-smi\n",
    "\n",
    "\n",
    "# 啟用 GPU, 將 GPU 設定在有空檔的 GPU\n",
    "# os.environ[\"CUDA_DEVICE_ORDER\"]=\"PCI_BUS_ID\" # 設定 smi 看到的 GPU ID 符合實際設定的順序 (若一台機器有多張不同型號的卡時，會有此類問題)\n",
    "# os.environ[\"CUDA_VISIBLE_DEVICES\"] = \"5\""
   ]
  },
  {
   "cell_type": "code",
   "execution_count": 2,
   "metadata": {},
   "outputs": [],
   "source": [
    "import os\n",
    "import keras\n",
    "\n",
    "%matplotlib inline\n",
    "\n",
    "# 請嘗試設定 GPU：os.environ\n",
    "os.environ[\"CUDA_VISIBLE_DEVICES\"] = \"\""
   ]
  },
  {
   "cell_type": "code",
   "execution_count": 3,
   "metadata": {},
   "outputs": [],
   "source": [
    "train, test = keras.datasets.cifar10.load_data()"
   ]
  },
  {
   "cell_type": "code",
   "execution_count": 4,
   "metadata": {},
   "outputs": [],
   "source": [
    "## 資料前處理\n",
    "\"\"\"\n",
    "Your code here\n",
    "\"\"\"\n",
    "#原本是X/255 這邊改為max/min 並調整在-1~1之間\n",
    "def preproc_x(x, flatten=True):\n",
    "    x = 2*(((x - x.min()) / (x.max() - x.min()))-0.5)\n",
    "    if flatten:\n",
    "        x = x.reshape((len(x), -1))\n",
    "    return x\n",
    "\n",
    "def preproc_y(y, num_classes=10):\n",
    "    if y.shape[-1] == 1:\n",
    "        y = keras.utils.to_categorical(y, num_classes)\n",
    "    return y    "
   ]
  },
  {
   "cell_type": "code",
   "execution_count": 5,
   "metadata": {},
   "outputs": [],
   "source": [
    "x_train, y_train = train\n",
    "x_test, y_test = test\n",
    "\n",
    "# Preproc the inputs\n",
    "x_train = preproc_x(x_train)\n",
    "x_test = preproc_x(x_test)\n",
    "\n",
    "# Preprc the outputs\n",
    "y_train = preproc_y(y_train)\n",
    "y_test = preproc_y(y_test)"
   ]
  },
  {
   "cell_type": "code",
   "execution_count": 7,
   "metadata": {},
   "outputs": [
    {
     "name": "stdout",
     "output_type": "stream",
     "text": [
      "Model: \"functional_1\"\n",
      "_________________________________________________________________\n",
      "Layer (type)                 Output Shape              Param #   \n",
      "=================================================================\n",
      "input_1 (InputLayer)         [(None, 3072)]            0         \n",
      "_________________________________________________________________\n",
      "hidden_layer1 (Dense)        (None, 1024)              3146752   \n",
      "_________________________________________________________________\n",
      "hidden_layer2 (Dense)        (None, 512)               524800    \n",
      "_________________________________________________________________\n",
      "hidden_layer3 (Dense)        (None, 256)               131328    \n",
      "_________________________________________________________________\n",
      "hidden_layer4 (Dense)        (None, 128)               32896     \n",
      "_________________________________________________________________\n",
      "hidden_layer5 (Dense)        (None, 64)                8256      \n",
      "_________________________________________________________________\n",
      "hidden_layer6 (Dense)        (None, 32)                2080      \n",
      "_________________________________________________________________\n",
      "hidden_layer7 (Dense)        (None, 30)                990       \n",
      "_________________________________________________________________\n",
      "output (Dense)               (None, 10)                310       \n",
      "=================================================================\n",
      "Total params: 3,847,412\n",
      "Trainable params: 3,847,412\n",
      "Non-trainable params: 0\n",
      "_________________________________________________________________\n"
     ]
    }
   ],
   "source": [
    "\"\"\"Code Here\n",
    "建立你的神經網路\n",
    "\"\"\"\n",
    "#增加層數\n",
    "def build_mlp(input_shape, output_units=10, num_neurons=[1024, 512, 256, 128, 64, 32, 30]):\n",
    "    input_layer = keras.layers.Input(input_shape)\n",
    "    \n",
    "    for i, n_units in enumerate(num_neurons):\n",
    "        if i == 0:\n",
    "            x = keras.layers.Dense(units=n_units, activation=\"relu\", name=\"hidden_layer\"+str(i+1))(input_layer)\n",
    "        else:\n",
    "            x = keras.layers.Dense(units=n_units, activation=\"relu\", name=\"hidden_layer\"+str(i+1))(x)\n",
    "    \n",
    "    out = keras.layers.Dense(units=output_units, activation=\"softmax\", name=\"output\")(x)\n",
    "    \n",
    "    model = keras.models.Model(inputs=[input_layer], outputs=[out])\n",
    "    return model\n",
    "\n",
    "model = build_mlp(input_shape=x_train.shape[1:])\n",
    "model.summary()"
   ]
  },
  {
   "cell_type": "code",
   "execution_count": 8,
   "metadata": {},
   "outputs": [],
   "source": [
    "## 超參數設定\n",
    "LEARNING_RATE = 0.001\n",
    "EPOCHS = 100\n",
    "BATCH_SIZE = 256"
   ]
  },
  {
   "cell_type": "code",
   "execution_count": 9,
   "metadata": {},
   "outputs": [],
   "source": [
    "optimizer = keras.optimizers.Adam(lr=LEARNING_RATE)\n",
    "model.compile(loss=\"categorical_crossentropy\", metrics=[\"accuracy\"], optimizer=optimizer)"
   ]
  },
  {
   "cell_type": "code",
   "execution_count": 10,
   "metadata": {},
   "outputs": [
    {
     "name": "stdout",
     "output_type": "stream",
     "text": [
      "Epoch 1/100\n",
      "196/196 [==============================] - 5s 26ms/step - loss: 1.7582 - accuracy: 0.3720 - val_loss: 1.5960 - val_accuracy: 0.4362\n",
      "Epoch 2/100\n",
      "196/196 [==============================] - 5s 26ms/step - loss: 1.5167 - accuracy: 0.4667 - val_loss: 1.4680 - val_accuracy: 0.4869\n",
      "Epoch 3/100\n",
      "196/196 [==============================] - 5s 27ms/step - loss: 1.3904 - accuracy: 0.5100 - val_loss: 1.3994 - val_accuracy: 0.5062\n",
      "Epoch 4/100\n",
      "196/196 [==============================] - 6s 28ms/step - loss: 1.2901 - accuracy: 0.5463 - val_loss: 1.3896 - val_accuracy: 0.5094\n",
      "Epoch 5/100\n",
      "196/196 [==============================] - 5s 27ms/step - loss: 1.1992 - accuracy: 0.5784 - val_loss: 1.3653 - val_accuracy: 0.5234\n",
      "Epoch 6/100\n",
      "196/196 [==============================] - 5s 28ms/step - loss: 1.1170 - accuracy: 0.6059 - val_loss: 1.3543 - val_accuracy: 0.5350\n",
      "Epoch 7/100\n",
      "196/196 [==============================] - 5s 28ms/step - loss: 1.0314 - accuracy: 0.6358 - val_loss: 1.3580 - val_accuracy: 0.5354\n",
      "Epoch 8/100\n",
      "196/196 [==============================] - 6s 28ms/step - loss: 0.9579 - accuracy: 0.6596 - val_loss: 1.3519 - val_accuracy: 0.5399\n",
      "Epoch 9/100\n",
      "196/196 [==============================] - 5s 28ms/step - loss: 0.8708 - accuracy: 0.6904 - val_loss: 1.4255 - val_accuracy: 0.5368\n",
      "Epoch 10/100\n",
      "196/196 [==============================] - 6s 29ms/step - loss: 0.8055 - accuracy: 0.7125 - val_loss: 1.4594 - val_accuracy: 0.5441\n",
      "Epoch 11/100\n",
      "196/196 [==============================] - 6s 28ms/step - loss: 0.7379 - accuracy: 0.7388 - val_loss: 1.4994 - val_accuracy: 0.5424\n",
      "Epoch 12/100\n",
      "196/196 [==============================] - 6s 28ms/step - loss: 0.6543 - accuracy: 0.7669 - val_loss: 1.5664 - val_accuracy: 0.5392\n",
      "Epoch 13/100\n",
      "196/196 [==============================] - 6s 28ms/step - loss: 0.5956 - accuracy: 0.7899 - val_loss: 1.6245 - val_accuracy: 0.5434\n",
      "Epoch 14/100\n",
      "196/196 [==============================] - 6s 28ms/step - loss: 0.5385 - accuracy: 0.8105 - val_loss: 1.7521 - val_accuracy: 0.5501\n",
      "Epoch 15/100\n",
      "196/196 [==============================] - 6s 29ms/step - loss: 0.4852 - accuracy: 0.8277 - val_loss: 1.8132 - val_accuracy: 0.5388\n",
      "Epoch 16/100\n",
      "196/196 [==============================] - 6s 29ms/step - loss: 0.4435 - accuracy: 0.8428 - val_loss: 1.8897 - val_accuracy: 0.5403\n",
      "Epoch 17/100\n",
      "196/196 [==============================] - 6s 29ms/step - loss: 0.3941 - accuracy: 0.8618 - val_loss: 2.0185 - val_accuracy: 0.5451\n",
      "Epoch 18/100\n",
      "196/196 [==============================] - 6s 30ms/step - loss: 0.3694 - accuracy: 0.8699 - val_loss: 2.1296 - val_accuracy: 0.5430\n",
      "Epoch 19/100\n",
      "196/196 [==============================] - 5s 27ms/step - loss: 0.3360 - accuracy: 0.8810 - val_loss: 2.2260 - val_accuracy: 0.5357\n",
      "Epoch 20/100\n",
      "196/196 [==============================] - 6s 29ms/step - loss: 0.2999 - accuracy: 0.8960 - val_loss: 2.2628 - val_accuracy: 0.5458\n",
      "Epoch 21/100\n",
      "196/196 [==============================] - 7s 33ms/step - loss: 0.2836 - accuracy: 0.9000 - val_loss: 2.4635 - val_accuracy: 0.5383\n",
      "Epoch 22/100\n",
      "196/196 [==============================] - 8s 39ms/step - loss: 0.2572 - accuracy: 0.9101 - val_loss: 2.5669 - val_accuracy: 0.5343\n",
      "Epoch 23/100\n",
      "196/196 [==============================] - 6s 31ms/step - loss: 0.2488 - accuracy: 0.9125 - val_loss: 2.5129 - val_accuracy: 0.5338\n",
      "Epoch 24/100\n",
      "196/196 [==============================] - 6s 29ms/step - loss: 0.2279 - accuracy: 0.9225 - val_loss: 2.7372 - val_accuracy: 0.5263\n",
      "Epoch 25/100\n",
      "196/196 [==============================] - 6s 31ms/step - loss: 0.2182 - accuracy: 0.9250 - val_loss: 2.6720 - val_accuracy: 0.5465\n",
      "Epoch 26/100\n",
      "196/196 [==============================] - 6s 31ms/step - loss: 0.2024 - accuracy: 0.9322 - val_loss: 2.7429 - val_accuracy: 0.5262\n",
      "Epoch 27/100\n",
      "196/196 [==============================] - 6s 31ms/step - loss: 0.1894 - accuracy: 0.9356 - val_loss: 2.8506 - val_accuracy: 0.5329\n",
      "Epoch 28/100\n",
      "196/196 [==============================] - 6s 30ms/step - loss: 0.1944 - accuracy: 0.9330 - val_loss: 2.9322 - val_accuracy: 0.5407\n",
      "Epoch 29/100\n",
      "196/196 [==============================] - 6s 30ms/step - loss: 0.1719 - accuracy: 0.9418 - val_loss: 2.8626 - val_accuracy: 0.5373\n",
      "Epoch 30/100\n",
      "196/196 [==============================] - 6s 30ms/step - loss: 0.1695 - accuracy: 0.9430 - val_loss: 2.8484 - val_accuracy: 0.5355\n",
      "Epoch 31/100\n",
      "196/196 [==============================] - 6s 30ms/step - loss: 0.1639 - accuracy: 0.9433 - val_loss: 2.9434 - val_accuracy: 0.5364\n",
      "Epoch 32/100\n",
      "196/196 [==============================] - 6s 29ms/step - loss: 0.1478 - accuracy: 0.9499 - val_loss: 3.0398 - val_accuracy: 0.5425\n",
      "Epoch 33/100\n",
      "196/196 [==============================] - 6s 29ms/step - loss: 0.1537 - accuracy: 0.9479 - val_loss: 3.0278 - val_accuracy: 0.5323\n",
      "Epoch 34/100\n",
      "196/196 [==============================] - 6s 30ms/step - loss: 0.1383 - accuracy: 0.9540 - val_loss: 3.0050 - val_accuracy: 0.5463\n",
      "Epoch 35/100\n",
      "196/196 [==============================] - 6s 30ms/step - loss: 0.1337 - accuracy: 0.9558 - val_loss: 3.0707 - val_accuracy: 0.5406\n",
      "Epoch 36/100\n",
      "196/196 [==============================] - 6s 29ms/step - loss: 0.1355 - accuracy: 0.9550 - val_loss: 3.2231 - val_accuracy: 0.5364\n",
      "Epoch 37/100\n",
      "196/196 [==============================] - 6s 29ms/step - loss: 0.1308 - accuracy: 0.9559 - val_loss: 3.1800 - val_accuracy: 0.5434\n",
      "Epoch 38/100\n",
      "196/196 [==============================] - 6s 29ms/step - loss: 0.1319 - accuracy: 0.9560 - val_loss: 3.1991 - val_accuracy: 0.5379\n",
      "Epoch 39/100\n",
      "196/196 [==============================] - 6s 30ms/step - loss: 0.1236 - accuracy: 0.9597 - val_loss: 3.0556 - val_accuracy: 0.5350\n",
      "Epoch 40/100\n",
      "196/196 [==============================] - 6s 30ms/step - loss: 0.1009 - accuracy: 0.9661 - val_loss: 3.5019 - val_accuracy: 0.5366\n",
      "Epoch 41/100\n",
      "196/196 [==============================] - 6s 29ms/step - loss: 0.1109 - accuracy: 0.9639 - val_loss: 3.3387 - val_accuracy: 0.5411\n",
      "Epoch 42/100\n",
      "196/196 [==============================] - 6s 29ms/step - loss: 0.1184 - accuracy: 0.9604 - val_loss: 3.3091 - val_accuracy: 0.5355\n",
      "Epoch 43/100\n",
      "196/196 [==============================] - 6s 32ms/step - loss: 0.1368 - accuracy: 0.9552 - val_loss: 3.2017 - val_accuracy: 0.5412\n",
      "Epoch 44/100\n",
      "196/196 [==============================] - 6s 31ms/step - loss: 0.1108 - accuracy: 0.9635 - val_loss: 3.4380 - val_accuracy: 0.5318\n",
      "Epoch 45/100\n",
      "196/196 [==============================] - 6s 29ms/step - loss: 0.0973 - accuracy: 0.9682 - val_loss: 3.5324 - val_accuracy: 0.5451\n",
      "Epoch 46/100\n",
      "196/196 [==============================] - 6s 29ms/step - loss: 0.0976 - accuracy: 0.9677 - val_loss: 3.3977 - val_accuracy: 0.5417\n",
      "Epoch 47/100\n",
      "196/196 [==============================] - 6s 30ms/step - loss: 0.1032 - accuracy: 0.9663 - val_loss: 3.3307 - val_accuracy: 0.5496\n",
      "Epoch 48/100\n",
      "196/196 [==============================] - 6s 30ms/step - loss: 0.1014 - accuracy: 0.9674 - val_loss: 3.3662 - val_accuracy: 0.5466\n",
      "Epoch 49/100\n",
      "196/196 [==============================] - 6s 31ms/step - loss: 0.0905 - accuracy: 0.9712 - val_loss: 3.5088 - val_accuracy: 0.5489\n",
      "Epoch 50/100\n",
      "196/196 [==============================] - 6s 30ms/step - loss: 0.0978 - accuracy: 0.9688 - val_loss: 3.5114 - val_accuracy: 0.5470\n",
      "Epoch 51/100\n",
      "196/196 [==============================] - 6s 30ms/step - loss: 0.1029 - accuracy: 0.9659 - val_loss: 3.4635 - val_accuracy: 0.5408\n",
      "Epoch 52/100\n",
      "196/196 [==============================] - 6s 29ms/step - loss: 0.0858 - accuracy: 0.9723 - val_loss: 3.7100 - val_accuracy: 0.5390\n",
      "Epoch 53/100\n",
      "196/196 [==============================] - 6s 30ms/step - loss: 0.0966 - accuracy: 0.9687 - val_loss: 3.3017 - val_accuracy: 0.5414\n",
      "Epoch 54/100\n",
      "196/196 [==============================] - 6s 30ms/step - loss: 0.0882 - accuracy: 0.9717 - val_loss: 3.3883 - val_accuracy: 0.5402\n",
      "Epoch 55/100\n",
      "196/196 [==============================] - 6s 31ms/step - loss: 0.0958 - accuracy: 0.9693 - val_loss: 3.4082 - val_accuracy: 0.5397\n",
      "Epoch 56/100\n",
      "196/196 [==============================] - 6s 30ms/step - loss: 0.0778 - accuracy: 0.9746 - val_loss: 3.7232 - val_accuracy: 0.5421\n",
      "Epoch 57/100\n"
     ]
    },
    {
     "name": "stdout",
     "output_type": "stream",
     "text": [
      "196/196 [==============================] - 6s 29ms/step - loss: 0.0923 - accuracy: 0.9715 - val_loss: 3.2484 - val_accuracy: 0.5382\n",
      "Epoch 58/100\n",
      "196/196 [==============================] - 6s 30ms/step - loss: 0.0760 - accuracy: 0.9752 - val_loss: 3.5577 - val_accuracy: 0.5457\n",
      "Epoch 59/100\n",
      "196/196 [==============================] - 6s 30ms/step - loss: 0.0832 - accuracy: 0.9738 - val_loss: 3.4990 - val_accuracy: 0.5441\n",
      "Epoch 60/100\n",
      "196/196 [==============================] - 6s 30ms/step - loss: 0.0760 - accuracy: 0.9762 - val_loss: 3.6432 - val_accuracy: 0.5409\n",
      "Epoch 61/100\n",
      "196/196 [==============================] - 6s 31ms/step - loss: 0.0789 - accuracy: 0.9751 - val_loss: 3.5594 - val_accuracy: 0.5386\n",
      "Epoch 62/100\n",
      "196/196 [==============================] - 6s 30ms/step - loss: 0.0725 - accuracy: 0.9770 - val_loss: 3.7477 - val_accuracy: 0.5387\n",
      "Epoch 63/100\n",
      "196/196 [==============================] - 6s 29ms/step - loss: 0.0847 - accuracy: 0.9732 - val_loss: 3.6184 - val_accuracy: 0.5341\n",
      "Epoch 64/100\n",
      "196/196 [==============================] - 6s 31ms/step - loss: 0.0681 - accuracy: 0.9784 - val_loss: 3.5646 - val_accuracy: 0.5411\n",
      "Epoch 65/100\n",
      "196/196 [==============================] - 6s 30ms/step - loss: 0.0724 - accuracy: 0.9771 - val_loss: 3.7410 - val_accuracy: 0.5428\n",
      "Epoch 66/100\n",
      "196/196 [==============================] - 6s 30ms/step - loss: 0.0646 - accuracy: 0.9798 - val_loss: 3.5529 - val_accuracy: 0.5441\n",
      "Epoch 67/100\n",
      "196/196 [==============================] - 6s 29ms/step - loss: 0.0775 - accuracy: 0.9754 - val_loss: 3.4894 - val_accuracy: 0.5439\n",
      "Epoch 68/100\n",
      "196/196 [==============================] - 6s 31ms/step - loss: 0.0805 - accuracy: 0.9749 - val_loss: 3.5264 - val_accuracy: 0.5436\n",
      "Epoch 69/100\n",
      "196/196 [==============================] - 6s 31ms/step - loss: 0.0589 - accuracy: 0.9814 - val_loss: 3.7572 - val_accuracy: 0.5393\n",
      "Epoch 70/100\n",
      "196/196 [==============================] - 6s 30ms/step - loss: 0.0600 - accuracy: 0.9817 - val_loss: 3.7404 - val_accuracy: 0.5356\n",
      "Epoch 71/100\n",
      "196/196 [==============================] - 6s 30ms/step - loss: 0.0749 - accuracy: 0.9767 - val_loss: 3.5372 - val_accuracy: 0.5420\n",
      "Epoch 72/100\n",
      "196/196 [==============================] - 6s 30ms/step - loss: 0.0830 - accuracy: 0.9736 - val_loss: 3.6843 - val_accuracy: 0.5494\n",
      "Epoch 73/100\n",
      "196/196 [==============================] - 6s 31ms/step - loss: 0.0680 - accuracy: 0.9782 - val_loss: 3.5306 - val_accuracy: 0.5389\n",
      "Epoch 74/100\n",
      "196/196 [==============================] - 6s 30ms/step - loss: 0.0566 - accuracy: 0.9818 - val_loss: 3.5852 - val_accuracy: 0.5378\n",
      "Epoch 75/100\n",
      "196/196 [==============================] - 6s 29ms/step - loss: 0.0667 - accuracy: 0.9793 - val_loss: 3.5914 - val_accuracy: 0.5452\n",
      "Epoch 76/100\n",
      "196/196 [==============================] - 6s 31ms/step - loss: 0.0636 - accuracy: 0.9794 - val_loss: 3.6298 - val_accuracy: 0.5417\n",
      "Epoch 77/100\n",
      "196/196 [==============================] - 6s 31ms/step - loss: 0.0675 - accuracy: 0.9797 - val_loss: 3.4737 - val_accuracy: 0.5368\n",
      "Epoch 78/100\n",
      "196/196 [==============================] - 6s 30ms/step - loss: 0.0524 - accuracy: 0.9840 - val_loss: 3.6906 - val_accuracy: 0.5401\n",
      "Epoch 79/100\n",
      "196/196 [==============================] - 6s 30ms/step - loss: 0.0639 - accuracy: 0.9790 - val_loss: 3.6842 - val_accuracy: 0.5382\n",
      "Epoch 80/100\n",
      "196/196 [==============================] - 7s 34ms/step - loss: 0.0629 - accuracy: 0.9806 - val_loss: 3.5409 - val_accuracy: 0.5385\n",
      "Epoch 81/100\n",
      "196/196 [==============================] - 7s 34ms/step - loss: 0.0587 - accuracy: 0.9808 - val_loss: 3.7848 - val_accuracy: 0.5449\n",
      "Epoch 82/100\n",
      "196/196 [==============================] - 7s 38ms/step - loss: 0.0660 - accuracy: 0.9799 - val_loss: 3.6997 - val_accuracy: 0.5405\n",
      "Epoch 83/100\n",
      "196/196 [==============================] - 7s 38ms/step - loss: 0.0565 - accuracy: 0.9830 - val_loss: 3.6241 - val_accuracy: 0.5424\n",
      "Epoch 84/100\n",
      "196/196 [==============================] - 7s 36ms/step - loss: 0.0611 - accuracy: 0.9816 - val_loss: 3.5962 - val_accuracy: 0.5396\n",
      "Epoch 85/100\n",
      "196/196 [==============================] - 6s 33ms/step - loss: 0.0573 - accuracy: 0.9818 - val_loss: 3.7913 - val_accuracy: 0.5445\n",
      "Epoch 86/100\n",
      "196/196 [==============================] - 6s 30ms/step - loss: 0.0624 - accuracy: 0.9809 - val_loss: 3.5206 - val_accuracy: 0.5397\n",
      "Epoch 87/100\n",
      "196/196 [==============================] - 6s 29ms/step - loss: 0.0415 - accuracy: 0.9868 - val_loss: 3.8523 - val_accuracy: 0.5441\n",
      "Epoch 88/100\n",
      "196/196 [==============================] - 6s 30ms/step - loss: 0.0531 - accuracy: 0.9835 - val_loss: 3.6584 - val_accuracy: 0.5389\n",
      "Epoch 89/100\n",
      "196/196 [==============================] - 6s 30ms/step - loss: 0.0535 - accuracy: 0.9827 - val_loss: 3.8012 - val_accuracy: 0.5394\n",
      "Epoch 90/100\n",
      "196/196 [==============================] - 6s 31ms/step - loss: 0.0757 - accuracy: 0.9775 - val_loss: 3.3298 - val_accuracy: 0.5409\n",
      "Epoch 91/100\n",
      "196/196 [==============================] - 6s 31ms/step - loss: 0.0459 - accuracy: 0.9858 - val_loss: 3.8080 - val_accuracy: 0.5388\n",
      "Epoch 92/100\n",
      "196/196 [==============================] - 6s 30ms/step - loss: 0.0525 - accuracy: 0.9838 - val_loss: 3.5098 - val_accuracy: 0.5438\n",
      "Epoch 93/100\n",
      "196/196 [==============================] - 6s 30ms/step - loss: 0.0538 - accuracy: 0.9839 - val_loss: 3.7095 - val_accuracy: 0.5441\n",
      "Epoch 94/100\n",
      "196/196 [==============================] - 6s 30ms/step - loss: 0.0471 - accuracy: 0.9858 - val_loss: 3.8571 - val_accuracy: 0.5396\n",
      "Epoch 95/100\n",
      "196/196 [==============================] - 6s 32ms/step - loss: 0.0594 - accuracy: 0.9822 - val_loss: 3.6764 - val_accuracy: 0.5338\n",
      "Epoch 96/100\n",
      "196/196 [==============================] - 6s 31ms/step - loss: 0.0476 - accuracy: 0.9852 - val_loss: 3.9112 - val_accuracy: 0.5397\n",
      "Epoch 97/100\n",
      "196/196 [==============================] - 6s 29ms/step - loss: 0.0571 - accuracy: 0.9821 - val_loss: 3.5907 - val_accuracy: 0.5372\n",
      "Epoch 98/100\n",
      "196/196 [==============================] - 6s 31ms/step - loss: 0.0510 - accuracy: 0.9843 - val_loss: 3.6610 - val_accuracy: 0.5415\n",
      "Epoch 99/100\n",
      "196/196 [==============================] - 6s 31ms/step - loss: 0.0426 - accuracy: 0.9872 - val_loss: 3.7366 - val_accuracy: 0.5442\n",
      "Epoch 100/100\n",
      "196/196 [==============================] - 7s 34ms/step - loss: 0.0519 - accuracy: 0.9847 - val_loss: 3.5113 - val_accuracy: 0.5365\n"
     ]
    },
    {
     "data": {
      "text/plain": [
       "<tensorflow.python.keras.callbacks.History at 0x7fa6ed8ca510>"
      ]
     },
     "execution_count": 10,
     "metadata": {},
     "output_type": "execute_result"
    }
   ],
   "source": [
    "model.fit(x_train, y_train, \n",
    "          epochs=EPOCHS, \n",
    "          batch_size=BATCH_SIZE, \n",
    "          validation_data=(x_test, y_test), \n",
    "          shuffle=True)"
   ]
  },
  {
   "cell_type": "code",
   "execution_count": 11,
   "metadata": {},
   "outputs": [
    {
     "data": {
      "image/png": "[encoded data removed]",
      "text/plain": [
       "<Figure size 432x288 with 1 Axes>"
      ]
     },
     "metadata": {
      "needs_background": "light"
     },
     "output_type": "display_data"
    },
    {
     "data": {
      "image/png": "[encoded data removed]",
      "text/plain": [
       "<Figure size 432x288 with 1 Axes>"
      ]
     },
     "metadata": {
      "needs_background": "light"
     },
     "output_type": "display_data"
    }
   ],
   "source": [
    "import matplotlib.pyplot as plt\n",
    "\n",
    "\n",
    "train_loss = model.history.history[\"loss\"]\n",
    "valid_loss = model.history.history[\"val_loss\"]\n",
    "\n",
    "train_acc = model.history.history[\"accuracy\"]\n",
    "valid_acc = model.history.history[\"val_accuracy\"]\n",
    "\n",
    "plt.plot(range(len(train_loss)), train_loss, label=\"train loss\")\n",
    "plt.plot(range(len(valid_loss)), valid_loss, label=\"valid loss\")\n",
    "plt.legend()\n",
    "plt.title(\"Loss\")\n",
    "plt.show()\n",
    "\n",
    "plt.plot(range(len(train_acc)), train_acc, label=\"train accuracy\")\n",
    "plt.plot(range(len(valid_acc)), valid_acc, label=\"valid accuracy\")\n",
    "plt.legend()\n",
    "plt.title(\"Accuracy\")\n",
    "plt.show()"
   ]
  }
 ],
 "metadata": {
  "kernelspec": {
   "display_name": "Python 3",
   "language": "python",
   "name": "python3"
  },
  "language_info": {
   "codemirror_mode": {
    "name": "ipython",
    "version": 3
   },
   "file_extension": ".py",
   "mimetype": "text/x-python",
   "name": "python",
   "nbconvert_exporter": "python",
   "pygments_lexer": "ipython3",
   "version": "3.7.4"
  }
 },
 "nbformat": 4,
 "nbformat_minor": 2
}
