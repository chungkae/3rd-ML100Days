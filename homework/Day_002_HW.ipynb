{
 "cells": [
  {
   "cell_type": "markdown",
   "metadata": {},
   "source": [
    "## [作業目標]\n",
    "了解機器學習適合應用的領域與範疇。"
   ]
  },
  {
   "cell_type": "markdown",
   "metadata": {},
   "source": [
    "## [作業重點]\n",
    "透過瞭解機器學習的運作方式，找出非常適用機器學習應用的領域及其原因"
   ]
  },
  {
   "cell_type": "markdown",
   "metadata": {},
   "source": [
    "## 作業\n",
    "請找出一個你認為機器學習可以發光發熱的領域並闡述原因? "
   ]
  },
  {
   "cell_type": "markdown",
   "metadata": {},
   "source": [
    "   『金融業』\n",
    "   \n",
    "    驅動機器學習成功，不外乎是兩大元素「數據」及「演算法」\n",
    "    在數據方面，金融業歷史悠久，累積的大量顧客屬性資料或交易資料等等，\n",
    "    甚至有些還可以跨銀行、保險及證券資料量龐大，且為符合主管機關監理要求，對於資料蒐集都具有相當程度。\n",
    "    除了剛剛所提的數據量之外，數據的「質」又更加重要，\n",
    "    這方面在金融業應也充分體會到這點，整合各層面資訊系統，也能達到提升資料「質」的效果。\n",
    "    \n",
    "    另外，金融業規模通常較大，對於硬體設備的需求通常都不是問題，\n",
    "    重點主要會是在找到將機器學習運用在適合的議題。\n",
    "    在這方面運用應該是可以很廣泛的，\n",
    "    如顧客行銷推薦，顧客在授信前的信用評級模型，\n",
    "    智能客服或風險控管等等都是可能著重的領域。\n",
    "    "
   ]
  }
 ],
 "metadata": {
  "kernelspec": {
   "display_name": "Python 3",
   "language": "python",
   "name": "python3"
  },
  "language_info": {
   "codemirror_mode": {
    "name": "ipython",
    "version": 3
   },
   "file_extension": ".py",
   "mimetype": "text/x-python",
   "name": "python",
   "nbconvert_exporter": "python",
   "pygments_lexer": "ipython3",
   "version": "3.7.1"
  }
 },
 "nbformat": 4,
 "nbformat_minor": 2
}
