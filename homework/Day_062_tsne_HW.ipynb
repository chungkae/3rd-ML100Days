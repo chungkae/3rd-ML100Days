{
 "cells": [
  {
   "cell_type": "markdown",
   "metadata": {},
   "source": [
    "# t-sne 觀察 : 流形還原"
   ]
  },
  {
   "cell_type": "markdown",
   "metadata": {
    "collapsed": true
   },
   "source": [
    "# [作業目標]\n",
    "- 試著模仿範例寫法, 觀察 S 形使用 t-SNE , 在不同困惑度 (perplexity) 下的流形還原效果"
   ]
  },
  {
   "cell_type": "markdown",
   "metadata": {
    "collapsed": true
   },
   "source": [
    "# [作業重點]\n",
    "- 使用 S 形資料集, 觀察 t-sne 在困惑度 (perplexity) 有所不同時, 流形還原的效果如何變化 (In[4], Out[4])\n",
    "- Hint : ax.scatter(Y[red, 0], Y[red, 1], c=\"r\") 與 ax.scatter(Y[green, 0], Y[green, 1], c=\"g\") 兩行改一行 ax.scatter(Y[:, 0], Y[:, 1], c=color)"
   ]
  },
  {
   "cell_type": "code",
   "execution_count": 14,
   "metadata": {},
   "outputs": [
    {
     "name": "stdout",
     "output_type": "stream",
     "text": [
      "Using matplotlib backend: MacOSX\n"
     ]
    }
   ],
   "source": [
    "# 載入套件\n",
    "import numpy as np\n",
    "import matplotlib.pyplot as plt\n",
    "\n",
    "from matplotlib.ticker import NullFormatter\n",
    "from sklearn import manifold, datasets\n",
    "from time import time\n",
    "\n",
    "%matplotlib auto"
   ]
  },
  {
   "cell_type": "code",
   "execution_count": 15,
   "metadata": {},
   "outputs": [],
   "source": [
    "# 設定模型與繪圖參數\n",
    "n_samples = 300\n",
    "n_components = 2\n",
    "(fig, subplots) = plt.subplots(2, 5, figsize=(15, 6))\n",
    "perplexities = [4, 6, 9, 14, 21, 30, 45, 66, 100]\n",
    "\n",
    "# 設定S曲線資料點\n",
    "X, color = datasets.samples_generator.make_s_curve(n_samples, random_state=0)\n",
    "\n",
    "#三維空間 y是常數 設成color"
   ]
  },
  {
   "cell_type": "code",
   "execution_count": 16,
   "metadata": {},
   "outputs": [
    {
     "data": {
      "text/plain": [
       "(-0.10500000000000001, 1.105, -0.10500000000000001, 1.105)"
      ]
     },
     "execution_count": 16,
     "metadata": {},
     "output_type": "execute_result"
    }
   ],
   "source": [
    "# 繪製資料原圖\n",
    "ax = subplots[0][0]\n",
    "ax.set_title(\"Original\")\n",
    "ax.scatter(X[:, 0], X[:, 2], c=color)\n",
    "ax.xaxis.set_major_formatter(NullFormatter())\n",
    "ax.yaxis.set_major_formatter(NullFormatter())\n",
    "plt.axis('tight')"
   ]
  },
  {
   "cell_type": "markdown",
   "metadata": {},
   "source": [
    "# 作業\n",
    "* 將原始資料集換為S型圖, 觀察不同 perplexity 下的流形還原結果"
   ]
  },
  {
   "cell_type": "code",
   "execution_count": 17,
   "metadata": {},
   "outputs": [
    {
     "name": "stdout",
     "output_type": "stream",
     "text": [
      "circles, perplexity=4 in 2.3 sec\n",
      "circles, perplexity=6 in 2.7 sec\n",
      "circles, perplexity=9 in 2.8 sec\n",
      "circles, perplexity=14 in 2.5 sec\n",
      "circles, perplexity=21 in 2.8 sec\n",
      "circles, perplexity=30 in 2.7 sec\n",
      "circles, perplexity=45 in 3 sec\n",
      "circles, perplexity=66 in 2.6 sec\n",
      "circles, perplexity=100 in 4 sec\n"
     ]
    }
   ],
   "source": [
    "# 繪製不同 perplexity 下的 t-SNE 流形還原圖 (請注意! 語法也要對應調整)\n",
    "\n",
    "for i, perplexity in enumerate(perplexities):\n",
    "    if i<4:\n",
    "        ax = subplots[0][i+1]\n",
    "    else:\n",
    "        ax = subplots[1][i-4]\n",
    "\n",
    "    t0 = time()\n",
    "    tsne = manifold.TSNE(n_components=n_components, init='random',\n",
    "                         random_state=0, perplexity=perplexity)\n",
    "    Y = tsne.fit_transform(X)\n",
    "    t1 = time()\n",
    "    print(\"circles, perplexity=%d in %.2g sec\" % (perplexity, t1 - t0))\n",
    "    ax.set_title(\"Perplexity=%d\" % perplexity)\n",
    "    ax.scatter(Y[:, 0], Y[:, 1], c=color)\n",
    "    ax.xaxis.set_major_formatter(NullFormatter())\n",
    "    ax.yaxis.set_major_formatter(NullFormatter())\n",
    "    ax.axis('tight')\n",
    "\n",
    "plt.show()"
   ]
  },
  {
   "cell_type": "markdown",
   "metadata": {
    "collapsed": true
   },
   "source": [
    "Ｓ形圖案,隨著複雜度的增加 執行時間有上升,但這在Ｓ型這個例子裡面,不會還原成一樣,原本三維也無首尾相連,困惑度越高,還是表現越好\n",
    "\n",
    "其中，最主要是設置困惑度（perplexity），論文中提出通常困惑度在 5 ~ 50 之間，有些狀況會設置到 100 以上，一般來說，大的資料集需要更大的困惑度。困惑度可以解釋成有效鄰近樣本點數量，困惑度越大，近鄰越多，對小區域的敏感度就越小，因此可以有以下結論：\n",
    "困惑度低：只有少數鄰居有影響力，可能把同分群拆成多群。 困惑度高：全局結構較明顯，但可能群與群之間會無法區分。\n",
    "不同的困惑度對產生的結果影響很大，因此判讀時可以考慮畫出多個圖比較。"
   ]
  }
 ],
 "metadata": {
  "kernelspec": {
   "display_name": "Python 3",
   "language": "python",
   "name": "python3"
  },
  "language_info": {
   "codemirror_mode": {
    "name": "ipython",
    "version": 3
   },
   "file_extension": ".py",
   "mimetype": "text/x-python",
   "name": "python",
   "nbconvert_exporter": "python",
   "pygments_lexer": "ipython3",
   "version": "3.7.4"
  }
 },
 "nbformat": 4,
 "nbformat_minor": 1
}
