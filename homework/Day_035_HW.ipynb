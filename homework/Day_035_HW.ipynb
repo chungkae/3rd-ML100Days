{
 "cells": [
  {
   "cell_type": "markdown",
   "metadata": {},
   "source": [
    "## 練習時間\n",
    "相信大家對回歸問題及分類問題都有初步的了解。今天的作業希望大家搜尋有關 multi-label 的案例問題。下圖是電影 \"奇異博士\" 的分類。可以看到同時有 \"Action\", \"Adventure\", \"Fantasy\" 的類別存在，代表這是個多標籤的問題。 "
   ]
  },
  {
   "cell_type": "markdown",
   "metadata": {},
   "source": [
    "![image](https://cdn-images-1.medium.com/max/1000/1*r0gYXMSQf5VhdMyl2bRDyg.png)"
   ]
  },
  {
   "cell_type": "markdown",
   "metadata": {},
   "source": [
    "## 請搜尋目標為多標籤問題 (Multi-label) 的機器學習案例，了解其資料來源、目標以及評估指標為何\n",
    "## Hint: 服飾"
   ]
  },
  {
   "cell_type": "markdown",
   "metadata": {},
   "source": [
    "以服飾的例子來說明多標籤問題。\n",
    "例如要預測一個服飾的顏色及種類，\n",
    "我們的目標可能為同時是兩個，例如紅色＋裙子或藍色＋牛仔褲\n",
    "\n",
    "此時我們的資料來源為服飾的照片，\n",
    "屆時會將圖片向量化，我們預測的目標是服飾的種類及顏色，\n",
    "資料整理則需調整資料至符合一般機器學習的樣子，\n",
    "會是許多one-hot指標，\n",
    "之後使用keras來建置模型。\n",
    "\n",
    "https://codertw.com/程式語言/516987/\n",
    "\n",
    "此時評估的指標為準確率(accuracy)"
   ]
  }
 ],
 "metadata": {
  "kernelspec": {
   "display_name": "Python 3",
   "language": "python",
   "name": "python3"
  },
  "language_info": {
   "codemirror_mode": {
    "name": "ipython",
    "version": 3
   },
   "file_extension": ".py",
   "mimetype": "text/x-python",
   "name": "python",
   "nbconvert_exporter": "python",
   "pygments_lexer": "ipython3",
   "version": "3.7.4"
  }
 },
 "nbformat": 4,
 "nbformat_minor": 2
}
