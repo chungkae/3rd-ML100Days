{
 "cells": [
  {
   "cell_type": "markdown",
   "metadata": {},
   "source": [
    "## [作業重點]\n",
    "確保你了解隨機森林模型中每個超參數的意義，並觀察調整超參數對結果的影響"
   ]
  },
  {
   "cell_type": "markdown",
   "metadata": {},
   "source": [
    "## 作業\n",
    "\n",
    "1. 試著調整 RandomForestClassifier(...) 中的參數，並觀察是否會改變結果？\n",
    "2. 改用其他資料集 (boston, wine)，並與回歸模型與決策樹的結果進行比較"
   ]
  },
  {
   "cell_type": "code",
   "execution_count": 11,
   "metadata": {},
   "outputs": [],
   "source": [
    "from sklearn import datasets,metrics\n",
    "from sklearn.ensemble import RandomForestClassifier,RandomForestRegressor\n",
    "from sklearn.model_selection import train_test_split"
   ]
  },
  {
   "cell_type": "code",
   "execution_count": 3,
   "metadata": {},
   "outputs": [],
   "source": [
    "#鳶尾花\n",
    "iris = datasets.load_iris()\n",
    "\n",
    "#分割樣本\n",
    "x_train,x_test,y_train,y_test = train_test_split(iris.data,iris.target,test_size=0.25,random_state=4)\n",
    "\n",
    "# 建立模型 (使用 20 顆樹，每棵樹的最大深度為 4)\n",
    "clf = RandomForestClassifier(n_estimators=20, max_depth=4)\n",
    "\n",
    "# 訓練模型\n",
    "clf.fit(x_train, y_train)\n",
    "\n",
    "# 預測測試集\n",
    "y_pred = clf.predict(x_test)"
   ]
  },
  {
   "cell_type": "code",
   "execution_count": 4,
   "metadata": {},
   "outputs": [
    {
     "name": "stdout",
     "output_type": "stream",
     "text": [
      "Accuracy:  0.9736842105263158\n",
      "['sepal length (cm)', 'sepal width (cm)', 'petal length (cm)', 'petal width (cm)']\n",
      "Feature importance:  [0.06121542 0.01360266 0.51197058 0.41321134]\n"
     ]
    }
   ],
   "source": [
    "acc = metrics.accuracy_score(y_test, y_pred)\n",
    "print(\"Accuracy: \", acc)\n",
    "\n",
    "print(iris.feature_names)\n",
    "print(\"Feature importance: \", clf.feature_importances_)"
   ]
  },
  {
   "cell_type": "code",
   "execution_count": 6,
   "metadata": {},
   "outputs": [
    {
     "name": "stdout",
     "output_type": "stream",
     "text": [
      "Accuracy:  0.9736842105263158\n",
      "['sepal length (cm)', 'sepal width (cm)', 'petal length (cm)', 'petal width (cm)']\n",
      "Feature importance:  [0.09856476 0.04180331 0.4285393  0.43109263]\n"
     ]
    }
   ],
   "source": [
    "#調參數看看 1,多建幾棵樹;增加深度 > 看起來對ＡＣＣ影響不大;特徵重要性有改變\n",
    "\n",
    "# 建立模型 (使用 100 顆樹，每棵樹的最大深度為 4)\n",
    "clf = RandomForestClassifier(n_estimators=100, max_depth=10)\n",
    "\n",
    "# 訓練模型\n",
    "clf.fit(x_train, y_train)\n",
    "\n",
    "# 預測測試集\n",
    "y_pred = clf.predict(x_test)\n",
    "\n",
    "acc = metrics.accuracy_score(y_test, y_pred)\n",
    "print(\"Accuracy: \", acc)\n",
    "\n",
    "print(iris.feature_names)\n",
    "print(\"Feature importance: \", clf.feature_importances_)"
   ]
  },
  {
   "cell_type": "code",
   "execution_count": 68,
   "metadata": {},
   "outputs": [
    {
     "name": "stdout",
     "output_type": "stream",
     "text": [
      "Accuracy:  0.9210526315789473\n",
      "['sepal length (cm)', 'sepal width (cm)', 'petal length (cm)', 'petal width (cm)']\n",
      "Feature importance:  [0.09271275 0.02419506 0.44114681 0.44194539]\n"
     ]
    }
   ],
   "source": [
    "#調參數看看,少建幾棵樹 2;增加深度 > 看起來ＡＣＣ下降\n",
    "\n",
    "# 建立模型 (使用 100 顆樹，每棵樹的最大深度為 4)\n",
    "clf = RandomForestClassifier(n_estimators=5, max_depth=4)\n",
    "\n",
    "# 訓練模型\n",
    "clf.fit(x_train, y_train)\n",
    "\n",
    "# 預測測試集\n",
    "y_pred = clf.predict(x_test)\n",
    "\n",
    "acc = metrics.accuracy_score(y_test, y_pred)\n",
    "print(\"Accuracy: \", acc)\n",
    "\n",
    "print(iris.feature_names)\n",
    "print(\"Feature importance: \", clf.feature_importances_)"
   ]
  },
  {
   "cell_type": "code",
   "execution_count": 14,
   "metadata": {},
   "outputs": [],
   "source": [
    "# 匯入資料boston 連續型\n",
    "bos = datasets.load_boston()"
   ]
  },
  {
   "cell_type": "code",
   "execution_count": 39,
   "metadata": {},
   "outputs": [
    {
     "name": "stdout",
     "output_type": "stream",
     "text": [
      "MSE:  9.441057843137255\n",
      "['CRIM' 'ZN' 'INDUS' 'CHAS' 'NOX' 'RM' 'AGE' 'DIS' 'RAD' 'TAX' 'PTRATIO'\n",
      " 'B' 'LSTAT']\n",
      "Feature importance:  [0.05514359 0.00222499 0.00934437 0.00063292 0.0185368  0.38553208\n",
      " 0.0294091  0.06621573 0.00626532 0.01443926 0.01794244 0.0149277\n",
      " 0.3793857 ]\n"
     ]
    }
   ],
   "source": [
    "#這邊boston是利用隨機森林回歸\n",
    "tra_x,te_x,tra_y,te_y = train_test_split(bos.data,bos.target,test_size=0.2,random_state=5)\n",
    "dec_b = RandomForestRegressor(n_estimators=10).fit(tra_x,tra_y)\n",
    "#預測\n",
    "pred_y_bos = dec_b.predict(te_x)\n",
    "\n",
    "#連續型是用MSE\n",
    "print(\"MSE: \", metrics.mean_squared_error(te_y,pred_y_bos))\n",
    "print(bos.feature_names)\n",
    "print(\"Feature importance: \", dec_b.feature_importances_)"
   ]
  },
  {
   "cell_type": "code",
   "execution_count": 36,
   "metadata": {},
   "outputs": [
    {
     "name": "stdout",
     "output_type": "stream",
     "text": [
      "MSE:  13.014835294117642\n",
      "['CRIM' 'ZN' 'INDUS' 'CHAS' 'NOX' 'RM' 'AGE' 'DIS' 'RAD' 'TAX' 'PTRATIO'\n",
      " 'B' 'LSTAT']\n",
      "Feature importance:  [4.97689827e-02 1.31503646e-03 6.66321317e-03 1.56103670e-04\n",
      " 7.57796157e-03 2.63611612e-01 8.86671492e-03 6.78238177e-02\n",
      " 8.23480595e-03 1.90456175e-02 1.52955557e-02 1.51161264e-02\n",
      " 5.36524452e-01]\n"
     ]
    }
   ],
   "source": [
    "#這邊boston 減少樹的數量\n",
    "dec_b = RandomForestRegressor(n_estimators=5).fit(tra_x,tra_y)\n",
    "#預測\n",
    "pred_y_bos = dec_b.predict(te_x)\n",
    "\n",
    "#連續型是用MSE\n",
    "print(\"MSE: \", metrics.mean_squared_error(te_y,pred_y_bos))\n",
    "print(bos.feature_names)\n",
    "print(\"Feature importance: \", dec_b.feature_importances_)"
   ]
  }
 ],
 "metadata": {
  "kernelspec": {
   "display_name": "Python 3",
   "language": "python",
   "name": "python3"
  },
  "language_info": {
   "codemirror_mode": {
    "name": "ipython",
    "version": 3
   },
   "file_extension": ".py",
   "mimetype": "text/x-python",
   "name": "python",
   "nbconvert_exporter": "python",
   "pygments_lexer": "ipython3",
   "version": "3.7.4"
  }
 },
 "nbformat": 4,
 "nbformat_minor": 2
}
