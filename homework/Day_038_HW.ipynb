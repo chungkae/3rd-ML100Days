{
 "cells": [
  {
   "cell_type": "markdown",
   "metadata": {},
   "source": [
    "## [作業重點]\n",
    "使用 Sklearn 中的線性迴歸模型，來訓練各種資料集，務必了解送進去模型訓練的**資料型態**為何，也請了解模型中各項參數的意義"
   ]
  },
  {
   "cell_type": "markdown",
   "metadata": {},
   "source": [
    "## 作業\n",
    "試著使用 sklearn datasets 的其他資料集 (wine, boston, ...)，來訓練自己的線性迴歸模型。"
   ]
  },
  {
   "cell_type": "markdown",
   "metadata": {},
   "source": [
    "### HINT: 注意 label 的型態，確定資料集的目標是分類還是回歸，在使用正確的模型訓練！"
   ]
  },
  {
   "cell_type": "code",
   "execution_count": 2,
   "metadata": {},
   "outputs": [],
   "source": [
    "from sklearn import datasets\n",
    "from sklearn import linear_model\n",
    "\n",
    "import numpy as np\n",
    "import matplotlib.pyplot as plt\n",
    "from sklearn.model_selection import train_test_split\n",
    "from sklearn.metrics import mean_squared_error, r2_score, accuracy_score"
   ]
  },
  {
   "cell_type": "code",
   "execution_count": 3,
   "metadata": {},
   "outputs": [],
   "source": [
    "wine = datasets.load_wine()  # 0,1,2 multi-class\n",
    "boston = datasets.load_boston()  # 連續型\n",
    "breast_cancer = datasets.load_breast_cancer() # 0,1"
   ]
  },
  {
   "cell_type": "markdown",
   "metadata": {},
   "source": [
    "OLS 線性迴歸"
   ]
  },
  {
   "cell_type": "code",
   "execution_count": 40,
   "metadata": {},
   "outputs": [
    {
     "name": "stdout",
     "output_type": "stream",
     "text": [
      "(506, 13)\n"
     ]
    }
   ],
   "source": [
    "# boston用最小平方法\n",
    "print(boston.data.shape)\n",
    "#先只取一個 X\n",
    "x_train, x_test, y_train, y_test = train_test_split(\n",
    "    boston.data[:,5,np.newaxis],boston.target,test_size=0.1,random_state=2)"
   ]
  },
  {
   "cell_type": "code",
   "execution_count": 41,
   "metadata": {},
   "outputs": [
    {
     "data": {
      "text/plain": [
       "array([9.12231938])"
      ]
     },
     "execution_count": 41,
     "metadata": {},
     "output_type": "execute_result"
    }
   ],
   "source": [
    "# 訓練\n",
    "ols = linear_model.LinearRegression().fit(x_train,y_train)\n",
    "# test預測\n",
    "ols_pred = ols.predict(x_test)\n",
    "ols.coef_ #beta數字"
   ]
  },
  {
   "cell_type": "code",
   "execution_count": 42,
   "metadata": {},
   "outputs": [
    {
     "data": {
      "text/plain": [
       "[<matplotlib.lines.Line2D at 0x1a272a6410>]"
      ]
     },
     "execution_count": 42,
     "metadata": {},
     "output_type": "execute_result"
    },
    {
     "data": {
      "image/png": "[encoded data removed]",
      "text/plain": [
       "<Figure size 432x288 with 1 Axes>"
      ]
     },
     "metadata": {
      "needs_background": "light"
     },
     "output_type": "display_data"
    }
   ],
   "source": [
    "# 畫圖看配適狀況\n",
    "plt.scatter(x_test,y_test)\n",
    "plt.plot(x_test,ols_pred,color='green')"
   ]
  },
  {
   "cell_type": "code",
   "execution_count": 45,
   "metadata": {},
   "outputs": [
    {
     "name": "stdout",
     "output_type": "stream",
     "text": [
      "MSE: 31.541\n",
      "R-square: 0.572\n"
     ]
    }
   ],
   "source": [
    "#算OLS的MSE及R-square\n",
    "print('MSE: %.3f' %mean_squared_error(y_test,ols_pred))\n",
    "print('R-square: %.3f' %r2_score(y_test,ols_pred))"
   ]
  },
  {
   "cell_type": "markdown",
   "metadata": {},
   "source": [
    "Logistic regression"
   ]
  },
  {
   "cell_type": "code",
   "execution_count": 49,
   "metadata": {},
   "outputs": [],
   "source": [
    "#breast_cancer (二元)用logistic\n",
    "x_train, x_test, y_train, y_test = train_test_split(\n",
    "    breast_cancer.data,breast_cancer.target,test_size=0.1,random_state=2)\n",
    "#訓練 損失函數優化法先選liblinear,ovr為二元迴歸\n",
    "lg_2 = linear_model.LogisticRegression(solver='liblinear',multi_class='ovr').fit(x_train,y_train)"
   ]
  },
  {
   "cell_type": "code",
   "execution_count": 52,
   "metadata": {},
   "outputs": [
    {
     "data": {
      "text/plain": [
       "array([[ 2.05261011,  0.13733154, -0.06634684, -0.00370715, -0.16185378,\n",
       "        -0.40501305, -0.63887841, -0.34522975, -0.22468544, -0.0277382 ,\n",
       "        -0.02855378,  1.10902969,  0.03772045, -0.09469436, -0.01741343,\n",
       "         0.00705175, -0.0497131 , -0.04023755, -0.04007121,  0.00626172,\n",
       "         1.24408881, -0.3357842 , -0.12377785, -0.02293554, -0.29796921,\n",
       "        -1.13305882, -1.5686779 , -0.6553054 , -0.66264966, -0.11547732]])"
      ]
     },
     "execution_count": 52,
     "metadata": {},
     "output_type": "execute_result"
    }
   ],
   "source": [
    "#預測\n",
    "lg_2_pred = lg_2.predict(x_test)\n",
    "\n",
    "lg_2.coef_ #beta"
   ]
  },
  {
   "cell_type": "code",
   "execution_count": 53,
   "metadata": {},
   "outputs": [
    {
     "name": "stdout",
     "output_type": "stream",
     "text": [
      "MSE: 0.018\n",
      "Accuracy: 0.919\n"
     ]
    }
   ],
   "source": [
    "#算Logistic 的MSE及\n",
    "print('MSE: %.3f' %mean_squared_error(y_test,lg_2_pred))\n",
    "print('Accuracy: %.3f' %r2_score(y_test,lg_2_pred))"
   ]
  },
  {
   "cell_type": "code",
   "execution_count": 58,
   "metadata": {},
   "outputs": [
    {
     "data": {
      "text/plain": [
       "array([1, 1, 1, 0, 1, 0, 1, 1, 1, 1, 0, 1, 1, 1, 1, 0, 1, 1, 1, 0, 1, 1,\n",
       "       1, 1, 1, 0, 1, 1, 0, 0, 1, 1, 1, 0, 0, 1, 1, 1, 1, 1, 0, 0, 1, 1,\n",
       "       0, 1, 1, 1, 0, 0, 1, 0, 1, 1, 1, 0, 1])"
      ]
     },
     "execution_count": 58,
     "metadata": {},
     "output_type": "execute_result"
    }
   ],
   "source": [
    "#預測結果\n",
    "lg_2_pred"
   ]
  },
  {
   "cell_type": "markdown",
   "metadata": {},
   "source": [
    "Logistic regression 多元"
   ]
  },
  {
   "cell_type": "code",
   "execution_count": 66,
   "metadata": {},
   "outputs": [
    {
     "data": {
      "text/plain": [
       "array([[ 5.46670100e-01,  5.31284189e-01,  4.34998955e-01,\n",
       "        -3.08937091e-01, -2.30250049e-02,  3.21474165e-01,\n",
       "         7.67762045e-01,  6.67487454e-03,  7.61892226e-02,\n",
       "         2.64997784e-01,  1.30067635e-02,  5.94530613e-01,\n",
       "         9.85153031e-03],\n",
       "       [-7.02625827e-01, -8.23577684e-01, -6.31490016e-01,\n",
       "         1.60118180e-01, -1.54778344e-02,  1.11018872e-01,\n",
       "         4.34028216e-01,  1.01638227e-01,  3.93978034e-01,\n",
       "        -1.09137392e+00,  3.03436697e-01,  5.72015211e-02,\n",
       "        -9.30453866e-03],\n",
       "       [ 1.55955726e-01,  2.92293495e-01,  1.96491061e-01,\n",
       "         1.48818911e-01,  3.85028393e-02, -4.32493037e-01,\n",
       "        -1.20179026e+00, -1.08313102e-01, -4.70167257e-01,\n",
       "         8.26376140e-01, -3.16443460e-01, -6.51732134e-01,\n",
       "        -5.46991630e-04]])"
      ]
     },
     "execution_count": 66,
     "metadata": {},
     "output_type": "execute_result"
    }
   ],
   "source": [
    "#wine (多元)用logistic 多元 (0,1,2)\n",
    "x_train, x_test, y_train, y_test = train_test_split(\n",
    "    wine.data,wine.target,test_size=0.1,random_state=2)\n",
    "#訓練 損失函數優化法先選newton-cg,multinomial為多元迴歸\n",
    "# (liblinear 不能用在multi)\n",
    "lg_more = linear_model.LogisticRegression(solver='newton-cg',multi_class='multinomial').fit(x_train,y_train)\n",
    "\n",
    "#預測\n",
    "lg_more_pred = lg_more.predict(x_test)\n",
    "\n",
    "lg_more.coef_ #beta"
   ]
  },
  {
   "cell_type": "code",
   "execution_count": 67,
   "metadata": {},
   "outputs": [
    {
     "name": "stdout",
     "output_type": "stream",
     "text": [
      "MSE: 0.056\n",
      "Accuracy: 0.917\n"
     ]
    }
   ],
   "source": [
    "#算Logistic 的MSE及\n",
    "print('MSE: %.3f' %mean_squared_error(y_test,lg_more_pred))\n",
    "print('Accuracy: %.3f' %r2_score(y_test,lg_more_pred))"
   ]
  },
  {
   "cell_type": "code",
   "execution_count": 68,
   "metadata": {},
   "outputs": [
    {
     "data": {
      "text/plain": [
       "array([0, 0, 2, 1, 0, 0, 1, 2, 1, 0, 1, 0, 0, 2, 2, 1, 0, 0])"
      ]
     },
     "execution_count": 68,
     "metadata": {},
     "output_type": "execute_result"
    }
   ],
   "source": [
    "#預測結果\n",
    "lg_more_pred"
   ]
  }
 ],
 "metadata": {
  "kernelspec": {
   "display_name": "Python 3",
   "language": "python",
   "name": "python3"
  },
  "language_info": {
   "codemirror_mode": {
    "name": "ipython",
    "version": 3
   },
   "file_extension": ".py",
   "mimetype": "text/x-python",
   "name": "python",
   "nbconvert_exporter": "python",
   "pygments_lexer": "ipython3",
   "version": "3.7.4"
  }
 },
 "nbformat": 4,
 "nbformat_minor": 2
}
